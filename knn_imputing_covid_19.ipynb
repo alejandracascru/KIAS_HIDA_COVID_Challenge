{
 "cells": [
  {
   "cell_type": "code",
   "execution_count": 12,
   "id": "lined-robert",
   "metadata": {},
   "outputs": [],
   "source": [
    "import os\n",
    "import numpy as np\n",
    "import pandas as pd\n",
    "from pathlib import Path\n",
    "from sklearn.feature_selection import SelectKBest, mutual_info_classif\n",
    "from sklearn.model_selection import RepeatedStratifiedKFold\n",
    "from sklearn.linear_model import LogisticRegression\n",
    "from sklearn import metrics\n",
    "from sklearn.preprocessing import MinMaxScaler\n",
    "from sklearn.experimental import enable_iterative_imputer\n",
    "from sklearn.impute import IterativeImputer, KNNImputer"
   ]
  },
  {
   "cell_type": "code",
   "execution_count": 13,
   "id": "constant-dodge",
   "metadata": {},
   "outputs": [
    {
     "data": {
      "text/html": [
       "<div>\n",
       "<style scoped>\n",
       "    .dataframe tbody tr th:only-of-type {\n",
       "        vertical-align: middle;\n",
       "    }\n",
       "\n",
       "    .dataframe tbody tr th {\n",
       "        vertical-align: top;\n",
       "    }\n",
       "\n",
       "    .dataframe thead th {\n",
       "        text-align: right;\n",
       "    }\n",
       "</style>\n",
       "<table border=\"1\" class=\"dataframe\">\n",
       "  <thead>\n",
       "    <tr style=\"text-align: right;\">\n",
       "      <th></th>\n",
       "      <th>PatientID</th>\n",
       "      <th>ImageFile</th>\n",
       "      <th>Hospital</th>\n",
       "      <th>Age</th>\n",
       "      <th>Sex</th>\n",
       "      <th>Temp_C</th>\n",
       "      <th>Cough</th>\n",
       "      <th>DifficultyInBreathing</th>\n",
       "      <th>WBC</th>\n",
       "      <th>CRP</th>\n",
       "      <th>Fibrinogen</th>\n",
       "      <th>LDH</th>\n",
       "      <th>Ddimer</th>\n",
       "      <th>Ox_percentage</th>\n",
       "      <th>PaO2</th>\n",
       "      <th>SaO2</th>\n",
       "      <th>pH</th>\n",
       "      <th>CardiovascularDisease</th>\n",
       "      <th>RespiratoryFailure</th>\n",
       "      <th>Prognosis</th>\n",
       "    </tr>\n",
       "  </thead>\n",
       "  <tbody>\n",
       "    <tr>\n",
       "      <th>0</th>\n",
       "      <td>P_131</td>\n",
       "      <td>P_131.png</td>\n",
       "      <td>D</td>\n",
       "      <td>35.913889</td>\n",
       "      <td>0</td>\n",
       "      <td>39.3</td>\n",
       "      <td>1.0</td>\n",
       "      <td>0.0</td>\n",
       "      <td>5.76</td>\n",
       "      <td>43.4</td>\n",
       "      <td>651.0</td>\n",
       "      <td>387.0</td>\n",
       "      <td>157.0</td>\n",
       "      <td>94.0</td>\n",
       "      <td>NaN</td>\n",
       "      <td>NaN</td>\n",
       "      <td>NaN</td>\n",
       "      <td>0.0</td>\n",
       "      <td>NaN</td>\n",
       "      <td>MILD</td>\n",
       "    </tr>\n",
       "    <tr>\n",
       "      <th>1</th>\n",
       "      <td>P_132</td>\n",
       "      <td>P_132.png</td>\n",
       "      <td>D</td>\n",
       "      <td>57.266667</td>\n",
       "      <td>0</td>\n",
       "      <td>37.0</td>\n",
       "      <td>0.0</td>\n",
       "      <td>0.0</td>\n",
       "      <td>11.48</td>\n",
       "      <td>64.0</td>\n",
       "      <td>700.0</td>\n",
       "      <td>338.0</td>\n",
       "      <td>601.0</td>\n",
       "      <td>94.0</td>\n",
       "      <td>75.0</td>\n",
       "      <td>96.9</td>\n",
       "      <td>7.42</td>\n",
       "      <td>0.0</td>\n",
       "      <td>NaN</td>\n",
       "      <td>MILD</td>\n",
       "    </tr>\n",
       "    <tr>\n",
       "      <th>2</th>\n",
       "      <td>P_195</td>\n",
       "      <td>P_195.png</td>\n",
       "      <td>D</td>\n",
       "      <td>79.263889</td>\n",
       "      <td>0</td>\n",
       "      <td>37.8</td>\n",
       "      <td>1.0</td>\n",
       "      <td>0.0</td>\n",
       "      <td>6.21</td>\n",
       "      <td>115.3</td>\n",
       "      <td>698.0</td>\n",
       "      <td>356.0</td>\n",
       "      <td>448.0</td>\n",
       "      <td>94.0</td>\n",
       "      <td>63.0</td>\n",
       "      <td>94.6</td>\n",
       "      <td>7.39</td>\n",
       "      <td>1.0</td>\n",
       "      <td>NaN</td>\n",
       "      <td>SEVERE</td>\n",
       "    </tr>\n",
       "    <tr>\n",
       "      <th>3</th>\n",
       "      <td>P_193</td>\n",
       "      <td>P_193.png</td>\n",
       "      <td>D</td>\n",
       "      <td>82.000000</td>\n",
       "      <td>0</td>\n",
       "      <td>38.0</td>\n",
       "      <td>1.0</td>\n",
       "      <td>0.0</td>\n",
       "      <td>7.28</td>\n",
       "      <td>149.3</td>\n",
       "      <td>513.0</td>\n",
       "      <td>482.0</td>\n",
       "      <td>NaN</td>\n",
       "      <td>97.0</td>\n",
       "      <td>68.0</td>\n",
       "      <td>96.3</td>\n",
       "      <td>7.46</td>\n",
       "      <td>0.0</td>\n",
       "      <td>NaN</td>\n",
       "      <td>SEVERE</td>\n",
       "    </tr>\n",
       "    <tr>\n",
       "      <th>4</th>\n",
       "      <td>P_140</td>\n",
       "      <td>P_140.png</td>\n",
       "      <td>D</td>\n",
       "      <td>60.791667</td>\n",
       "      <td>1</td>\n",
       "      <td>37.0</td>\n",
       "      <td>1.0</td>\n",
       "      <td>0.0</td>\n",
       "      <td>6.37</td>\n",
       "      <td>20.7</td>\n",
       "      <td>NaN</td>\n",
       "      <td>NaN</td>\n",
       "      <td>210.0</td>\n",
       "      <td>93.0</td>\n",
       "      <td>NaN</td>\n",
       "      <td>97.3</td>\n",
       "      <td>NaN</td>\n",
       "      <td>0.0</td>\n",
       "      <td>NaN</td>\n",
       "      <td>MILD</td>\n",
       "    </tr>\n",
       "  </tbody>\n",
       "</table>\n",
       "</div>"
      ],
      "text/plain": [
       "  PatientID  ImageFile Hospital        Age  Sex  Temp_C  Cough  \\\n",
       "0     P_131  P_131.png        D  35.913889    0    39.3    1.0   \n",
       "1     P_132  P_132.png        D  57.266667    0    37.0    0.0   \n",
       "2     P_195  P_195.png        D  79.263889    0    37.8    1.0   \n",
       "3     P_193  P_193.png        D  82.000000    0    38.0    1.0   \n",
       "4     P_140  P_140.png        D  60.791667    1    37.0    1.0   \n",
       "\n",
       "   DifficultyInBreathing    WBC    CRP  Fibrinogen    LDH  Ddimer  \\\n",
       "0                    0.0   5.76   43.4       651.0  387.0   157.0   \n",
       "1                    0.0  11.48   64.0       700.0  338.0   601.0   \n",
       "2                    0.0   6.21  115.3       698.0  356.0   448.0   \n",
       "3                    0.0   7.28  149.3       513.0  482.0     NaN   \n",
       "4                    0.0   6.37   20.7         NaN    NaN   210.0   \n",
       "\n",
       "   Ox_percentage  PaO2  SaO2    pH  CardiovascularDisease  RespiratoryFailure  \\\n",
       "0           94.0   NaN   NaN   NaN                    0.0                 NaN   \n",
       "1           94.0  75.0  96.9  7.42                    0.0                 NaN   \n",
       "2           94.0  63.0  94.6  7.39                    1.0                 NaN   \n",
       "3           97.0  68.0  96.3  7.46                    0.0                 NaN   \n",
       "4           93.0   NaN  97.3   NaN                    0.0                 NaN   \n",
       "\n",
       "  Prognosis  \n",
       "0      MILD  \n",
       "1      MILD  \n",
       "2    SEVERE  \n",
       "3    SEVERE  \n",
       "4      MILD  "
      ]
     },
     "execution_count": 13,
     "metadata": {},
     "output_type": "execute_result"
    }
   ],
   "source": [
    "entries = Path(\"D:\\Transcend_(E)\\_IramS\\Covid Challenge\")\n",
    "os.chdir(entries)\n",
    "train_data = pd.read_table('trainSet.txt', delimiter=',', header='infer')\n",
    "train_data.head()"
   ]
  },
  {
   "cell_type": "code",
   "execution_count": 14,
   "id": "impossible-indicator",
   "metadata": {},
   "outputs": [
    {
     "name": "stdout",
     "output_type": "stream",
     "text": [
      "['PatientID', 'ImageFile', 'Hospital', 'Age', 'Sex', 'Temp_C', 'Cough', 'DifficultyInBreathing', 'WBC', 'CRP', 'Fibrinogen', 'LDH', 'Ddimer', 'Ox_percentage', 'PaO2', 'SaO2', 'pH', 'CardiovascularDisease', 'RespiratoryFailure', 'Prognosis']\n"
     ]
    }
   ],
   "source": [
    "columns = train_data.keys()\n",
    "columns = list(columns)\n",
    "print(columns)"
   ]
  },
  {
   "cell_type": "code",
   "execution_count": 15,
   "id": "straight-listing",
   "metadata": {},
   "outputs": [
    {
     "name": "stdout",
     "output_type": "stream",
     "text": [
      "There are 16 columns of Features: ['Age', 'Sex', 'Temp_C', 'Cough', 'DifficultyInBreathing', 'WBC', 'CRP', 'Fibrinogen', 'LDH', 'Ddimer', 'Ox_percentage', 'PaO2', 'SaO2', 'pH', 'CardiovascularDisease', 'RespiratoryFailure']\n"
     ]
    }
   ],
   "source": [
    "columns.remove('ImageFile')\n",
    "columns.remove('PatientID')\n",
    "columns.remove('Prognosis')\n",
    "columns.remove('Hospital')\n",
    "# Get the total classes\n",
    "print(f\"There are {len(columns)} columns of Features: {columns}\")"
   ]
  },
  {
   "cell_type": "code",
   "execution_count": 16,
   "id": "miniature-donor",
   "metadata": {},
   "outputs": [],
   "source": [
    "# Binary data\n",
    "columns_binary= ['Sex','Cough', 'CardiovascularDisease','DifficultyInBreathing','RespiratoryFailure']"
   ]
  },
  {
   "cell_type": "code",
   "execution_count": 17,
   "id": "initial-mileage",
   "metadata": {},
   "outputs": [
    {
     "name": "stdout",
     "output_type": "stream",
     "text": [
      "The class Sex has 291 samples\n",
      "The class Cough has 436.0 samples\n",
      "The class CardiovascularDisease has 234.0 samples\n",
      "The class DifficultyInBreathing has 427.0 samples\n",
      "The class RespiratoryFailure has 11.0 samples\n"
     ]
    }
   ],
   "source": [
    "for column_binary in columns_binary:\n",
    "    print(f\"The class {column_binary} has {train_data[column_binary].sum()} samples\")"
   ]
  },
  {
   "cell_type": "code",
   "execution_count": 18,
   "id": "moving-tactics",
   "metadata": {},
   "outputs": [],
   "source": [
    "# Numerical data \n",
    "from collections import Counter\n",
    "columns_numerical = list((Counter(columns)-Counter(columns_binary)).elements())"
   ]
  },
  {
   "cell_type": "code",
   "execution_count": 19,
   "id": "powerful-crisis",
   "metadata": {},
   "outputs": [
    {
     "name": "stdout",
     "output_type": "stream",
     "text": [
      "The class Age has 862 samples\n",
      "The class Temp_C has 709 samples\n",
      "The class WBC has 854 samples\n",
      "The class CRP has 830 samples\n",
      "The class Fibrinogen has 272 samples\n",
      "The class LDH has 727 samples\n",
      "The class Ddimer has 242 samples\n",
      "The class Ox_percentage has 620 samples\n",
      "The class PaO2 has 693 samples\n",
      "The class SaO2 has 280 samples\n",
      "The class pH has 656 samples\n"
     ]
    }
   ],
   "source": [
    "for column_numerical in columns_numerical:\n",
    "    print(f\"The class {column_numerical} has {train_data[column_numerical].count()} samples\")"
   ]
  },
  {
   "cell_type": "code",
   "execution_count": 20,
   "id": "killing-bracelet",
   "metadata": {},
   "outputs": [],
   "source": [
    "train_df=train_data.drop(['ImageFile','PatientID','Hospital','Prognosis'],axis=1) # No imputation required \n",
    "# transform string output to binary 'MILD=0'\n",
    "lables= pd.Series(np.where(train_data.Prognosis.values == 'MILD', 0, 1),train_data.index)"
   ]
  },
  {
   "cell_type": "code",
   "execution_count": 22,
   "id": "numerous-linux",
   "metadata": {},
   "outputs": [],
   "source": [
    "X= train_df    #X= dataset.iloc[:,1:47](when i have SO features as well) # Get features data in pd frame \n",
    "y= lables  # Get lables data in pd frame "
   ]
  },
  {
   "cell_type": "code",
   "execution_count": 41,
   "id": "norman-circus",
   "metadata": {},
   "outputs": [],
   "source": [
    "def impute_data(X_train, X_test):\n",
    "    knn_imputer = KNNImputer(n_neighbors=20) # change value of k wihtin cv folds as long acurracy increases\n",
    "    knn_imputer.fit(X_train)\n",
    "    train_imputed = knn_imputer.transform(X_train)\n",
    "    test_imputed = knn_imputer.transform(X_test)\n",
    "    X_train_imputed = pd.DataFrame(train_imputed, columns = X_train.columns, index=X_train.index)\n",
    "    X_test_imputed = pd.DataFrame(test_imputed, columns = X_train.columns, index=X_test.index)\n",
    "    return X_train_imputed, X_test_imputed\n",
    "    "
   ]
  },
  {
   "cell_type": "code",
   "execution_count": 42,
   "id": "pursuant-meeting",
   "metadata": {},
   "outputs": [],
   "source": [
    "def scaling_data(X_train, X_test):\n",
    "    \n",
    "    scaler= MinMaxScaler()\n",
    "    #scaler = StandardScaler()\n",
    "    scaler.fit(X_train)# fit to train \n",
    "    X_train_scaled= scaler.transform(X_train)# transform train\n",
    "    X_train_scaled_df = pd.DataFrame(X_train_scaled, columns = X_train.columns, index=X_train.index) #convert train to dataframe \n",
    "    X_test_scaled= scaler.transform(X_test) #transform test\n",
    "    X_test_scaled_df = pd.DataFrame(X_test_scaled, columns = X_test.columns, index=X_test.index) #convert test to dataframe \n",
    "    \n",
    "    return X_train_scaled_df, X_test_scaled_df"
   ]
  },
  {
   "cell_type": "code",
   "execution_count": 43,
   "id": "velvet-playing",
   "metadata": {},
   "outputs": [],
   "source": [
    "def feature_selection(X_train,y_train,X_test): \n",
    "\n",
    "    fs= SelectKBest(score_func=mutual_info_classif, k=8)\n",
    "    fs.fit(X_train, y_train)\n",
    "    X_train_feat= fs.transform(X_train)\n",
    "    X_test_feat= fs.transform(X_test)\n",
    "    mask = fs.get_support() #get a mask of selected features\n",
    "    sig_features = X_train.columns[mask] # get feature names\n",
    "    X_train_fs_df = pd.DataFrame(X_train_feat, columns =sig_features.tolist(), index=X_train.index) #convert train to dataframe\n",
    "    X_test_fs_df = pd.DataFrame(X_test_feat, columns =sig_features.tolist(), index=X_test.index) #convert train to dataframe \n",
    "    return X_train_fs_df, X_test_fs_df, sig_features.tolist()"
   ]
  },
  {
   "cell_type": "code",
   "execution_count": 44,
   "id": "imposed-extraction",
   "metadata": {},
   "outputs": [],
   "source": [
    "def fit_compute_results(X_train, y_train, X_test, y_test):\n",
    "        \n",
    "        model = LogisticRegression(solver='lbfgs',penalty='none',class_weight='balanced')\n",
    "        model.fit(X_train, y_train)\n",
    "    \n",
    "\n",
    "        # Getting Prediction Probabilties for Each Repetition on Training and Test Set of Selected Features\n",
    "        proba_train= model.predict_proba(X_train)\n",
    "        proba_test= model.predict_proba(X_test)\n",
    "        \n",
    "    \n",
    "        # Getting Train and Test Probabilites for positive class to calculate train and test auc \n",
    "        yhat_train= proba_train[:,1]\n",
    "        yhat_test= proba_test[:,1]\n",
    "        \n",
    "\n",
    "        #Getting Train and Test AUC\n",
    "        auc_train  = metrics.roc_auc_score(y_train, yhat_train)\n",
    "        auc_test= metrics.roc_auc_score(y_test, yhat_test)\n",
    "        \n",
    "\n",
    "        return auc_train,auc_test"
   ]
  },
  {
   "cell_type": "code",
   "execution_count": 45,
   "id": "dietary-rebound",
   "metadata": {},
   "outputs": [],
   "source": [
    "kfold  = RepeatedStratifiedKFold(n_splits=3, n_repeats=33,random_state=0)\n",
    "sig_feat_count=[]\n",
    "ROC_train= []\n",
    "ROC_test= []"
   ]
  },
  {
   "cell_type": "code",
   "execution_count": 46,
   "id": "valued-maintenance",
   "metadata": {},
   "outputs": [],
   "source": [
    "for train, test in kfold.split(X,y):\n",
    "    \n",
    "    # Scaling features\n",
    "    X_train_scaled_df, X_test_scaled_df = scaling_data(X.iloc[train.tolist()], X.iloc[test.tolist()])\n",
    "    \n",
    "    # Impute features \n",
    "    X_train_imputed_df, X_test_imputed_df = impute_data(X_train_scaled_df, X_test_scaled_df)\n",
    "    \n",
    "    # Selecting k-best features \n",
    "    X_train_fs, X_test_fs, final_feature_list= feature_selection(X_train_imputed_df,y[train],X_test_imputed_df)\n",
    "    #Store filter selected feature in bootstraps of each fold\n",
    "    sig_feat_count.append(final_feature_list)\n",
    "        \n",
    "    # Fitting Model on Single Feature in Training Batch\n",
    "    auc_train, auc_test= fit_compute_results(X_train_fs,y[train],X_test_fs,y[test])\n",
    "    ROC_train.append(auc_train)\n",
    "    ROC_test.append(auc_test)"
   ]
  },
  {
   "cell_type": "code",
   "execution_count": 47,
   "id": "soviet-reggae",
   "metadata": {},
   "outputs": [
    {
     "name": "stdout",
     "output_type": "stream",
     "text": [
      "Train Accuray Median: 83.35%\n",
      "Test Accuracy Median: 82.24%\n"
     ]
    }
   ],
   "source": [
    "print('Train Accuray Median: %.2f%%' % (np.median(ROC_train)*100))\n",
    "print('Test Accuracy Median: %.2f%%' % (np.median(ROC_test)*100))"
   ]
  },
  {
   "cell_type": "code",
   "execution_count": 48,
   "id": "efficient-monthly",
   "metadata": {},
   "outputs": [],
   "source": [
    "feat_count=pd.DataFrame(sig_feat_count).apply(pd.Series.value_counts).sum(axis=1) #sum occurence  of each features\n",
    "final_feat_list= (feat_count[(feat_count >=40 )].index).tolist() # get features that have occurence above thresh"
   ]
  },
  {
   "cell_type": "code",
   "execution_count": 49,
   "id": "blind-format",
   "metadata": {},
   "outputs": [
    {
     "data": {
      "text/plain": [
       "LDH                      99.0\n",
       "Ox_percentage            99.0\n",
       "PaO2                     98.0\n",
       "CRP                      97.0\n",
       "SaO2                     96.0\n",
       "Ddimer                   82.0\n",
       "Age                      65.0\n",
       "Fibrinogen               64.0\n",
       "DifficultyInBreathing    30.0\n",
       "WBC                      23.0\n",
       "pH                       14.0\n",
       "CardiovascularDisease     7.0\n",
       "Sex                       6.0\n",
       "RespiratoryFailure        5.0\n",
       "Temp_C                    5.0\n",
       "Cough                     2.0\n",
       "dtype: float64"
      ]
     },
     "execution_count": 49,
     "metadata": {},
     "output_type": "execute_result"
    }
   ],
   "source": [
    "feat_count.sort_values(ascending=False) # most important features can be identified by their count in each cv fold "
   ]
  },
  {
   "cell_type": "code",
   "execution_count": null,
   "id": "reliable-commission",
   "metadata": {},
   "outputs": [],
   "source": []
  }
 ],
 "metadata": {
  "kernelspec": {
   "display_name": "deep",
   "language": "python",
   "name": "deep"
  },
  "language_info": {
   "codemirror_mode": {
    "name": "ipython",
    "version": 3
   },
   "file_extension": ".py",
   "mimetype": "text/x-python",
   "name": "python",
   "nbconvert_exporter": "python",
   "pygments_lexer": "ipython3",
   "version": "3.7.10"
  }
 },
 "nbformat": 4,
 "nbformat_minor": 5
}
